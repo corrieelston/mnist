{
 "cells": [
  {
   "cell_type": "code",
   "execution_count": 30,
   "metadata": {
    "collapsed": true
   },
   "outputs": [],
   "source": [
    "import numpy as np\n",
    "import matplotlib.pyplot as plt"
   ]
  },
  {
   "cell_type": "code",
   "execution_count": 11,
   "metadata": {
    "collapsed": true
   },
   "outputs": [],
   "source": [
    "%matplotlib inline"
   ]
  },
  {
   "cell_type": "code",
   "execution_count": 1,
   "metadata": {
    "collapsed": false
   },
   "outputs": [
    {
     "name": "stdout",
     "output_type": "stream",
     "text": [
      "Extracting MNIST_data/train-images-idx3-ubyte.gz\n",
      "Extracting MNIST_data/train-labels-idx1-ubyte.gz\n",
      "Extracting MNIST_data/t10k-images-idx3-ubyte.gz\n",
      "Extracting MNIST_data/t10k-labels-idx1-ubyte.gz\n"
     ]
    }
   ],
   "source": [
    "from tensorflow.examples.tutorials.mnist import input_data\n",
    "mnist = input_data.read_data_sets('MNIST_data', one_hot=True)"
   ]
  },
  {
   "cell_type": "code",
   "execution_count": 13,
   "metadata": {
    "collapsed": false
   },
   "outputs": [
    {
     "data": {
      "text/plain": [
       "(784,)"
      ]
     },
     "execution_count": 13,
     "metadata": {},
     "output_type": "execute_result"
    }
   ],
   "source": [
    "raw = mnist.train.images[1]\n",
    "raw.shape"
   ]
  },
  {
   "cell_type": "code",
   "execution_count": 18,
   "metadata": {
    "collapsed": false
   },
   "outputs": [
    {
     "data": {
      "text/plain": [
       "(28, 28)"
      ]
     },
     "execution_count": 18,
     "metadata": {},
     "output_type": "execute_result"
    }
   ],
   "source": [
    "image = raw.reshape(28,28)\n",
    "image.shape"
   ]
  },
  {
   "cell_type": "code",
   "execution_count": 17,
   "metadata": {
    "collapsed": false
   },
   "outputs": [
    {
     "data": {
      "text/plain": [
       "array([[ 0.        ,  0.        ,  0.        ,  0.        ,  0.        ,\n",
       "         0.        ,  0.        ,  0.        ,  0.        ,  0.        ,\n",
       "         0.        ,  0.        ,  0.        ,  0.        ,  0.        ,\n",
       "         0.        ,  0.        ,  0.        ,  0.        ,  0.        ,\n",
       "         0.        ,  0.        ,  0.        ,  0.        ,  0.        ,\n",
       "         0.        ,  0.        ,  0.        ],\n",
       "       [ 0.        ,  0.        ,  0.        ,  0.        ,  0.        ,\n",
       "         0.        ,  0.        ,  0.        ,  0.        ,  0.        ,\n",
       "         0.        ,  0.        ,  0.        ,  0.        ,  0.        ,\n",
       "         0.        ,  0.        ,  0.        ,  0.        ,  0.        ,\n",
       "         0.        ,  0.        ,  0.        ,  0.        ,  0.        ,\n",
       "         0.        ,  0.        ,  0.        ],\n",
       "       [ 0.        ,  0.        ,  0.        ,  0.        ,  0.        ,\n",
       "         0.        ,  0.        ,  0.        ,  0.        ,  0.        ,\n",
       "         0.        ,  0.        ,  0.        ,  0.        ,  0.        ,\n",
       "         0.        ,  0.        ,  0.        ,  0.        ,  0.        ,\n",
       "         0.        ,  0.        ,  0.        ,  0.        ,  0.        ,\n",
       "         0.        ,  0.        ,  0.        ],\n",
       "       [ 0.        ,  0.        ,  0.        ,  0.        ,  0.        ,\n",
       "         0.        ,  0.        ,  0.        ,  0.        ,  0.        ,\n",
       "         0.        ,  0.        ,  0.        ,  0.        ,  0.        ,\n",
       "         0.        ,  0.        ,  0.        ,  0.        ,  0.        ,\n",
       "         0.        ,  0.        ,  0.        ,  0.        ,  0.        ,\n",
       "         0.        ,  0.        ,  0.        ],\n",
       "       [ 0.        ,  0.        ,  0.        ,  0.        ,  0.        ,\n",
       "         0.        ,  0.        ,  0.        ,  0.        ,  0.        ,\n",
       "         0.        ,  0.        ,  0.        ,  0.        ,  0.        ,\n",
       "         0.        ,  0.        ,  0.        ,  0.        ,  0.        ,\n",
       "         0.        ,  0.        ,  0.        ,  0.        ,  0.        ,\n",
       "         0.        ,  0.        ,  0.        ],\n",
       "       [ 0.        ,  0.        ,  0.        ,  0.        ,  0.        ,\n",
       "         0.        ,  0.        ,  0.        ,  0.        ,  0.        ,\n",
       "         0.        ,  0.        ,  0.        ,  0.12156864,  0.51764709,\n",
       "         0.99607849,  0.99215692,  0.99607849,  0.83529419,  0.32156864,\n",
       "         0.        ,  0.        ,  0.        ,  0.        ,  0.        ,\n",
       "         0.        ,  0.        ,  0.        ],\n",
       "       [ 0.        ,  0.        ,  0.        ,  0.        ,  0.        ,\n",
       "         0.        ,  0.        ,  0.        ,  0.        ,  0.        ,\n",
       "         0.        ,  0.08235294,  0.55686277,  0.91372555,  0.98823535,\n",
       "         0.99215692,  0.98823535,  0.99215692,  0.98823535,  0.87450987,\n",
       "         0.07843138,  0.        ,  0.        ,  0.        ,  0.        ,\n",
       "         0.        ,  0.        ,  0.        ],\n",
       "       [ 0.        ,  0.        ,  0.        ,  0.        ,  0.        ,\n",
       "         0.        ,  0.        ,  0.        ,  0.        ,  0.        ,\n",
       "         0.48235297,  0.99607849,  0.99215692,  0.99607849,  0.99215692,\n",
       "         0.87843144,  0.7960785 ,  0.7960785 ,  0.87450987,  1.        ,\n",
       "         0.83529419,  0.        ,  0.        ,  0.        ,  0.        ,\n",
       "         0.        ,  0.        ,  0.        ],\n",
       "       [ 0.        ,  0.        ,  0.        ,  0.        ,  0.        ,\n",
       "         0.        ,  0.        ,  0.        ,  0.        ,  0.        ,\n",
       "         0.7960785 ,  0.99215692,  0.98823535,  0.99215692,  0.83137262,\n",
       "         0.07843138,  0.        ,  0.        ,  0.2392157 ,  0.99215692,\n",
       "         0.98823535,  0.        ,  0.        ,  0.        ,  0.        ,\n",
       "         0.        ,  0.        ,  0.        ],\n",
       "       [ 0.        ,  0.        ,  0.        ,  0.        ,  0.        ,\n",
       "         0.        ,  0.        ,  0.        ,  0.        ,  0.16078432,\n",
       "         0.95294124,  0.87843144,  0.7960785 ,  0.71764708,  0.16078432,\n",
       "         0.59607846,  0.11764707,  0.        ,  0.        ,  1.        ,\n",
       "         0.99215692,  0.40000004,  0.        ,  0.        ,  0.        ,\n",
       "         0.        ,  0.        ,  0.        ],\n",
       "       [ 0.        ,  0.        ,  0.        ,  0.        ,  0.        ,\n",
       "         0.        ,  0.        ,  0.        ,  0.        ,  0.        ,\n",
       "         0.15686275,  0.07843138,  0.        ,  0.        ,  0.40000004,\n",
       "         0.99215692,  0.19607845,  0.        ,  0.32156864,  0.99215692,\n",
       "         0.98823535,  0.07843138,  0.        ,  0.        ,  0.        ,\n",
       "         0.        ,  0.        ,  0.        ],\n",
       "       [ 0.        ,  0.        ,  0.        ,  0.        ,  0.        ,\n",
       "         0.        ,  0.        ,  0.        ,  0.        ,  0.        ,\n",
       "         0.        ,  0.        ,  0.        ,  0.        ,  0.32156864,\n",
       "         0.83921576,  0.12156864,  0.44313729,  0.91372555,  0.99607849,\n",
       "         0.91372555,  0.        ,  0.        ,  0.        ,  0.        ,\n",
       "         0.        ,  0.        ,  0.        ],\n",
       "       [ 0.        ,  0.        ,  0.        ,  0.        ,  0.        ,\n",
       "         0.        ,  0.        ,  0.        ,  0.        ,  0.        ,\n",
       "         0.        ,  0.24313727,  0.40000004,  0.32156864,  0.16078432,\n",
       "         0.99215692,  0.90980399,  0.99215692,  0.98823535,  0.91372555,\n",
       "         0.19607845,  0.        ,  0.        ,  0.        ,  0.        ,\n",
       "         0.        ,  0.        ,  0.        ],\n",
       "       [ 0.        ,  0.        ,  0.        ,  0.        ,  0.        ,\n",
       "         0.        ,  0.        ,  0.        ,  0.        ,  0.        ,\n",
       "         0.        ,  0.59607846,  0.99215692,  0.99607849,  0.99215692,\n",
       "         0.99607849,  0.99215692,  0.99607849,  0.91372555,  0.48235297,\n",
       "         0.        ,  0.        ,  0.        ,  0.        ,  0.        ,\n",
       "         0.        ,  0.        ,  0.        ],\n",
       "       [ 0.        ,  0.        ,  0.        ,  0.        ,  0.        ,\n",
       "         0.        ,  0.        ,  0.        ,  0.        ,  0.        ,\n",
       "         0.        ,  0.59607846,  0.98823535,  0.99215692,  0.98823535,\n",
       "         0.99215692,  0.98823535,  0.75294125,  0.19607845,  0.        ,\n",
       "         0.        ,  0.        ,  0.        ,  0.        ,  0.        ,\n",
       "         0.        ,  0.        ,  0.        ],\n",
       "       [ 0.        ,  0.        ,  0.        ,  0.        ,  0.        ,\n",
       "         0.        ,  0.        ,  0.        ,  0.        ,  0.        ,\n",
       "         0.        ,  0.24313727,  0.71764708,  0.7960785 ,  0.95294124,\n",
       "         0.99607849,  0.99215692,  0.24313727,  0.        ,  0.        ,\n",
       "         0.        ,  0.        ,  0.        ,  0.        ,  0.        ,\n",
       "         0.        ,  0.        ,  0.        ],\n",
       "       [ 0.        ,  0.        ,  0.        ,  0.        ,  0.        ,\n",
       "         0.        ,  0.        ,  0.        ,  0.        ,  0.        ,\n",
       "         0.        ,  0.        ,  0.        ,  0.        ,  0.15686275,\n",
       "         0.67450982,  0.98823535,  0.7960785 ,  0.07843138,  0.        ,\n",
       "         0.        ,  0.        ,  0.        ,  0.        ,  0.        ,\n",
       "         0.        ,  0.        ,  0.        ],\n",
       "       [ 0.        ,  0.        ,  0.        ,  0.        ,  0.        ,\n",
       "         0.        ,  0.08235294,  0.        ,  0.        ,  0.        ,\n",
       "         0.        ,  0.        ,  0.        ,  0.        ,  0.        ,\n",
       "         0.        ,  0.71764708,  0.99607849,  0.43921572,  0.        ,\n",
       "         0.        ,  0.        ,  0.        ,  0.        ,  0.        ,\n",
       "         0.        ,  0.        ,  0.        ],\n",
       "       [ 0.        ,  0.        ,  0.        ,  0.        ,  0.        ,\n",
       "         0.24313727,  0.7960785 ,  0.63921571,  0.        ,  0.        ,\n",
       "         0.        ,  0.        ,  0.        ,  0.        ,  0.        ,\n",
       "         0.        ,  0.2392157 ,  0.99215692,  0.59215689,  0.        ,\n",
       "         0.        ,  0.        ,  0.        ,  0.        ,  0.        ,\n",
       "         0.        ,  0.        ,  0.        ],\n",
       "       [ 0.        ,  0.        ,  0.        ,  0.        ,  0.08235294,\n",
       "         0.83921576,  0.75294125,  0.        ,  0.        ,  0.        ,\n",
       "         0.        ,  0.        ,  0.        ,  0.        ,  0.        ,\n",
       "         0.04313726,  0.83529419,  0.99607849,  0.59215689,  0.        ,\n",
       "         0.        ,  0.        ,  0.        ,  0.        ,  0.        ,\n",
       "         0.        ,  0.        ,  0.        ],\n",
       "       [ 0.        ,  0.        ,  0.        ,  0.        ,  0.40000004,\n",
       "         0.99215692,  0.59215689,  0.        ,  0.        ,  0.        ,\n",
       "         0.        ,  0.        ,  0.        ,  0.        ,  0.16078432,\n",
       "         0.83529419,  0.98823535,  0.99215692,  0.43529415,  0.        ,\n",
       "         0.        ,  0.        ,  0.        ,  0.        ,  0.        ,\n",
       "         0.        ,  0.        ,  0.        ],\n",
       "       [ 0.        ,  0.        ,  0.        ,  0.        ,  0.16078432,\n",
       "         1.        ,  0.83529419,  0.36078432,  0.20000002,  0.        ,\n",
       "         0.        ,  0.12156864,  0.36078432,  0.67843139,  0.99215692,\n",
       "         0.99607849,  0.99215692,  0.55686277,  0.        ,  0.        ,\n",
       "         0.        ,  0.        ,  0.        ,  0.        ,  0.        ,\n",
       "         0.        ,  0.        ,  0.        ],\n",
       "       [ 0.        ,  0.        ,  0.        ,  0.        ,  0.        ,\n",
       "         0.67450982,  0.98823535,  0.99215692,  0.98823535,  0.7960785 ,\n",
       "         0.7960785 ,  0.91372555,  0.98823535,  0.99215692,  0.98823535,\n",
       "         0.99215692,  0.50980395,  0.07843138,  0.        ,  0.        ,\n",
       "         0.        ,  0.        ,  0.        ,  0.        ,  0.        ,\n",
       "         0.        ,  0.        ,  0.        ],\n",
       "       [ 0.        ,  0.        ,  0.        ,  0.        ,  0.        ,\n",
       "         0.08235294,  0.7960785 ,  1.        ,  0.99215692,  0.99607849,\n",
       "         0.99215692,  0.99607849,  0.99215692,  0.95686281,  0.7960785 ,\n",
       "         0.32156864,  0.        ,  0.        ,  0.        ,  0.        ,\n",
       "         0.        ,  0.        ,  0.        ,  0.        ,  0.        ,\n",
       "         0.        ,  0.        ,  0.        ],\n",
       "       [ 0.        ,  0.        ,  0.        ,  0.        ,  0.        ,\n",
       "         0.        ,  0.07843138,  0.59215689,  0.59215689,  0.99215692,\n",
       "         0.67058825,  0.59215689,  0.59215689,  0.15686275,  0.        ,\n",
       "         0.        ,  0.        ,  0.        ,  0.        ,  0.        ,\n",
       "         0.        ,  0.        ,  0.        ,  0.        ,  0.        ,\n",
       "         0.        ,  0.        ,  0.        ],\n",
       "       [ 0.        ,  0.        ,  0.        ,  0.        ,  0.        ,\n",
       "         0.        ,  0.        ,  0.        ,  0.        ,  0.        ,\n",
       "         0.        ,  0.        ,  0.        ,  0.        ,  0.        ,\n",
       "         0.        ,  0.        ,  0.        ,  0.        ,  0.        ,\n",
       "         0.        ,  0.        ,  0.        ,  0.        ,  0.        ,\n",
       "         0.        ,  0.        ,  0.        ],\n",
       "       [ 0.        ,  0.        ,  0.        ,  0.        ,  0.        ,\n",
       "         0.        ,  0.        ,  0.        ,  0.        ,  0.        ,\n",
       "         0.        ,  0.        ,  0.        ,  0.        ,  0.        ,\n",
       "         0.        ,  0.        ,  0.        ,  0.        ,  0.        ,\n",
       "         0.        ,  0.        ,  0.        ,  0.        ,  0.        ,\n",
       "         0.        ,  0.        ,  0.        ],\n",
       "       [ 0.        ,  0.        ,  0.        ,  0.        ,  0.        ,\n",
       "         0.        ,  0.        ,  0.        ,  0.        ,  0.        ,\n",
       "         0.        ,  0.        ,  0.        ,  0.        ,  0.        ,\n",
       "         0.        ,  0.        ,  0.        ,  0.        ,  0.        ,\n",
       "         0.        ,  0.        ,  0.        ,  0.        ,  0.        ,\n",
       "         0.        ,  0.        ,  0.        ]], dtype=float32)"
      ]
     },
     "execution_count": 17,
     "metadata": {},
     "output_type": "execute_result"
    }
   ],
   "source": [
    "image"
   ]
  },
  {
   "cell_type": "code",
   "execution_count": 19,
   "metadata": {
    "collapsed": false
   },
   "outputs": [
    {
     "data": {
      "text/plain": [
       "<matplotlib.image.AxesImage at 0x7f434f967ad0>"
      ]
     },
     "execution_count": 19,
     "metadata": {},
     "output_type": "execute_result"
    },
    {
     "data": {
      "image/png": "[encoded data removed]",
      "text/plain": [
       "<matplotlib.figure.Figure at 0x7f434fa74610>"
      ]
     },
     "metadata": {},
     "output_type": "display_data"
    }
   ],
   "source": [
    "plt.imshow(image, cmap='gray_r')"
   ]
  },
  {
   "cell_type": "code",
   "execution_count": 69,
   "metadata": {
    "collapsed": false
   },
   "outputs": [
    {
     "data": {
      "text/plain": [
       "(28, 28)"
      ]
     },
     "execution_count": 69,
     "metadata": {},
     "output_type": "execute_result"
    }
   ],
   "source": [
    "image.shape"
   ]
  },
  {
   "cell_type": "code",
   "execution_count": 20,
   "metadata": {
    "collapsed": true
   },
   "outputs": [],
   "source": [
    "from scipy import ndimage"
   ]
  },
  {
   "cell_type": "code",
   "execution_count": 71,
   "metadata": {
    "collapsed": false
   },
   "outputs": [
    {
     "data": {
      "text/plain": [
       "<matplotlib.image.AxesImage at 0x7f434e292910>"
      ]
     },
     "execution_count": 71,
     "metadata": {},
     "output_type": "execute_result"
    },
    {
     "data": {
      "image/png": "[encoded data removed]",
      "text/plain": [
       "<matplotlib.figure.Figure at 0x7f434e55f050>"
      ]
     },
     "metadata": {},
     "output_type": "display_data"
    }
   ],
   "source": [
    "image_shifted = ndimage.interpolation.shift(image, np.random.randint(-4,+4))\n",
    "plt.imshow(image_shifted, cmap='gray_r')"
   ]
  },
  {
   "cell_type": "code",
   "execution_count": 72,
   "metadata": {
    "collapsed": false
   },
   "outputs": [
    {
     "data": {
      "text/plain": [
       "(28, 28)"
      ]
     },
     "execution_count": 72,
     "metadata": {},
     "output_type": "execute_result"
    }
   ],
   "source": [
    "image_shifted.shape"
   ]
  },
  {
   "cell_type": "code",
   "execution_count": 81,
   "metadata": {
    "collapsed": false
   },
   "outputs": [
    {
     "data": {
      "text/plain": [
       "<matplotlib.image.AxesImage at 0x7f434dea3250>"
      ]
     },
     "execution_count": 81,
     "metadata": {},
     "output_type": "execute_result"
    },
    {
     "data": {
      "image/png": "[encoded data removed]",
      "text/plain": [
       "<matplotlib.figure.Figure at 0x7f434df42890>"
      ]
     },
     "metadata": {},
     "output_type": "display_data"
    }
   ],
   "source": [
    "image_rotated = ndimage.interpolation.rotate(image, angle=30.0, reshape=True)\n",
    "\n",
    "dim = image_rotated.shape[0]\n",
    "dim\n",
    "\n",
    "image_rotated_scaled = image_rotated[(dim/2)-14:(dim/2)+14,(dim/2)-14:(dim/2)+14]\n",
    "plt.imshow(image_rotated_scaled, cmap='gray_r')"
   ]
  },
  {
   "cell_type": "code",
   "execution_count": 80,
   "metadata": {
    "collapsed": false
   },
   "outputs": [
    {
     "data": {
      "text/plain": [
       "array([[  0.00000000e+00,   0.00000000e+00,   0.00000000e+00,\n",
       "          0.00000000e+00,   0.00000000e+00,   0.00000000e+00,\n",
       "          0.00000000e+00,   0.00000000e+00,   0.00000000e+00,\n",
       "          0.00000000e+00,   0.00000000e+00,   0.00000000e+00,\n",
       "          0.00000000e+00,   1.47224957e-04,   6.72377355e-04,\n",
       "          1.29026582e-03,   1.02575228e-03,   1.22452955e-04,\n",
       "          3.49296647e-06,   1.74661989e-06,  -2.33569631e-06,\n",
       "          8.59860279e-07,  -2.33012571e-07,   3.97724200e-08,\n",
       "          2.41461251e-09,   0.00000000e+00,   0.00000000e+00,\n",
       "          0.00000000e+00],\n",
       "       [  0.00000000e+00,   0.00000000e+00,   0.00000000e+00,\n",
       "          0.00000000e+00,   0.00000000e+00,   0.00000000e+00,\n",
       "          0.00000000e+00,   1.98908936e-07,   2.12053674e-05,\n",
       "          1.58222265e-05,  -2.26742224e-04,  -3.64088737e-05,\n",
       "          3.64324660e-04,  -1.43058959e-03,  -4.08971449e-03,\n",
       "         -6.55882619e-03,  -5.52512053e-03,  -8.45180126e-04,\n",
       "         -3.48454159e-05,   8.14635132e-06,   3.55547309e-06,\n",
       "         -1.11570148e-06,   2.40701098e-07,  -2.95571088e-08,\n",
       "         -3.62869262e-10,  -9.56583510e-12,   0.00000000e+00,\n",
       "          0.00000000e+00],\n",
       "       [  0.00000000e+00,   1.14429719e-13,  -6.00883399e-10,\n",
       "          6.23039664e-09,  -3.39720003e-08,   1.25343632e-07,\n",
       "         -2.66424706e-07,  -1.22936467e-06,  -1.12007408e-04,\n",
       "         -2.20753034e-04,   9.32937372e-04,   5.34355699e-04,\n",
       "         -1.34436856e-03,   4.54232981e-03,   1.49755543e-02,\n",
       "          2.44142413e-02,   2.35552769e-02,   5.07774530e-03,\n",
       "          2.18766785e-04,  -1.11678659e-04,   2.32377424e-05,\n",
       "         -1.08769327e-05,   3.66681866e-06,  -8.24693643e-07,\n",
       "          3.70453179e-09,   4.46117809e-08,   0.00000000e+00,\n",
       "          0.00000000e+00],\n",
       "       [ -2.88844487e-11,   4.34077036e-12,  -4.39374266e-11,\n",
       "          3.10383963e-09,  -2.97024769e-08,   1.66242287e-07,\n",
       "         -5.26929966e-07,   5.04536047e-07,   2.96897721e-04,\n",
       "          1.12874212e-03,  -2.80052773e-03,  -3.08845355e-03,\n",
       "          4.14705230e-03,  -1.29039651e-02,  -5.35152331e-02,\n",
       "         -8.84975195e-02,  -9.52726379e-02,  -2.86830571e-02,\n",
       "         -1.20924891e-03,   7.34793022e-04,  -1.61294709e-04,\n",
       "          2.06089117e-05,   2.97925853e-05,  -2.96092003e-05,\n",
       "          1.79154904e-05,  -5.73809439e-06,   0.00000000e+00,\n",
       "          0.00000000e+00],\n",
       "       [ -4.75771755e-10,   3.53572588e-10,   9.86453497e-09,\n",
       "         -9.01352664e-08,   5.05156095e-07,  -2.09132259e-06,\n",
       "          5.65659911e-06,   1.76065157e-06,  -7.24195619e-04,\n",
       "         -4.50196164e-03,   7.19749322e-03,   1.41879423e-02,\n",
       "         -1.11973882e-02,   3.38358954e-02,   2.02909827e-01,\n",
       "          3.84490401e-01,   5.56264699e-01,   3.80479187e-01,\n",
       "          7.71861821e-02,  -2.75017880e-02,   1.07804444e-02,\n",
       "         -4.01248503e-03,   1.26846705e-03,  -3.42347019e-04,\n",
       "          7.15071001e-05,  -5.66904646e-06,   0.00000000e+00,\n",
       "          0.00000000e+00],\n",
       "       [  2.78737899e-09,  -2.87935187e-09,  -4.38625705e-08,\n",
       "          4.10314641e-07,  -2.26724796e-06,   9.25503355e-06,\n",
       "         -2.54592651e-05,  -2.64957890e-07,   1.64681789e-03,\n",
       "          1.58398114e-02,  -1.47898942e-02,  -4.60119843e-02,\n",
       "          2.09406838e-01,   8.10559273e-01,   1.11324060e+00,\n",
       "          1.09509480e+00,   1.06187510e+00,   9.59817469e-01,\n",
       "          5.12859225e-01,  -1.78202172e-03,  -1.36026123e-03,\n",
       "          5.15396334e-03,  -2.71652266e-03,   1.10672193e-03,\n",
       "         -3.92697490e-04,   1.09358371e-04,   0.00000000e+00,\n",
       "          0.00000000e+00],\n",
       "       [ -1.02859534e-08,   1.33464155e-08,   1.29904748e-07,\n",
       "         -1.27768067e-06,   6.98879649e-06,  -2.76214978e-05,\n",
       "          7.01896352e-05,   4.83745425e-05,  -3.85089917e-03,\n",
       "         -4.81434315e-02,   2.68495306e-02,   4.82458234e-01,\n",
       "          8.80783319e-01,   9.93536294e-01,   9.80166972e-01,\n",
       "          9.54280674e-01,   9.45027053e-01,   9.78474617e-01,\n",
       "          9.99326468e-01,   6.94754779e-01,  -1.02114096e-01,\n",
       "          2.56778765e-02,  -6.84992783e-03,   1.67823315e-03,\n",
       "         -3.63723811e-04,   5.87018330e-05,   0.00000000e+00,\n",
       "          0.00000000e+00],\n",
       "       [  2.50681147e-08,  -2.29583659e-08,  -3.95321308e-07,\n",
       "          3.51956101e-06,  -1.84373057e-05,   7.03886108e-05,\n",
       "         -1.73977125e-04,  -9.49925161e-05,   7.84822181e-03,\n",
       "          1.59112811e-01,   5.97274244e-01,   9.22844768e-01,\n",
       "          1.01348615e+00,   9.80500996e-01,   7.17140377e-01,\n",
       "          5.11120856e-01,   3.58708948e-01,   4.65313762e-01,\n",
       "          1.02479839e+00,   9.52394009e-01,   7.46370628e-02,\n",
       "          1.80647039e-04,  -6.61798231e-06,   1.36913310e-04,\n",
       "         -9.79066463e-05,   3.94805902e-05,  -2.37095287e-06,\n",
       "          0.00000000e+00],\n",
       "       [ -4.70214800e-08,   4.35859384e-08,   6.46755495e-07,\n",
       "         -6.12195527e-06,   3.70377420e-05,  -1.84852150e-04,\n",
       "          8.09630088e-04,  -3.17144417e-03,   5.07189613e-03,\n",
       "          6.10750020e-01,   1.07822073e+00,   1.01001894e+00,\n",
       "          9.93458986e-01,   8.53471696e-01,   9.59537178e-02,\n",
       "         -5.16160838e-02,  -6.19082339e-02,  -4.37894166e-02,\n",
       "          9.06850815e-01,   1.04928720e+00,   4.68788028e-01,\n",
       "          2.26993971e-02,  -3.12317233e-03,  -1.40601260e-04,\n",
       "          3.36532161e-04,  -1.60838419e-04,   3.05599569e-05,\n",
       "          0.00000000e+00],\n",
       "       [ -4.25766444e-08,   4.93886375e-07,  -3.66956647e-06,\n",
       "          2.27856308e-05,  -1.25263556e-04,   6.26691850e-04,\n",
       "         -2.88155023e-03,   1.22427922e-02,  -3.65754738e-02,\n",
       "          7.96888411e-01,   1.01646674e+00,   9.28709388e-01,\n",
       "          8.89606118e-01,   2.13297188e-01,   6.23567760e-01,\n",
       "          3.72556746e-01,   6.05162093e-03,   3.81975919e-02,\n",
       "          7.95405984e-01,   1.12142229e+00,   3.05321962e-01,\n",
       "         -6.98856935e-02,   2.07890365e-02,  -5.74946078e-03,\n",
       "          1.49355340e-03,  -3.57045763e-04,   5.58642423e-05,\n",
       "          0.00000000e+00],\n",
       "       [ -1.38610483e-06,   6.40927738e-06,  -2.45662741e-05,\n",
       "          8.64474569e-05,  -2.82907393e-04,   8.59945954e-04,\n",
       "         -2.44164979e-03,   6.55240007e-03,   3.39958854e-02,\n",
       "          6.08653665e-01,   6.14372134e-01,   2.94983804e-01,\n",
       "          1.18801668e-01,   1.68560892e-01,   8.95744324e-01,\n",
       "          5.03646672e-01,  -2.65701022e-03,   5.49964190e-01,\n",
       "          9.36411440e-01,   1.04357457e+00,   3.80373538e-01,\n",
       "         -5.86508811e-02,   1.13240201e-02,  -1.81418611e-03,\n",
       "          1.89836777e-04,   1.09826888e-05,  -1.06845009e-05,\n",
       "          0.00000000e+00],\n",
       "       [ -8.57783903e-07,   2.80556310e-06,  -7.54096391e-06,\n",
       "          2.22245235e-05,  -7.63229182e-05,   3.01242544e-04,\n",
       "         -1.20831060e-03,   4.79694968e-03,  -1.86524652e-02,\n",
       "          1.40716182e-02,  -1.71858929e-02,  -6.90340325e-02,\n",
       "         -7.61563331e-02,   7.50288963e-02,   5.98714232e-01,\n",
       "          6.90973759e-01,   4.91386563e-01,   9.26337242e-01,\n",
       "          1.01774395e+00,   6.91168487e-01,   3.20361950e-03,\n",
       "          1.24848271e-02,  -3.90145672e-03,   1.00295257e-03,\n",
       "         -2.29723097e-04,   4.78371840e-05,  -8.13555471e-06,\n",
       "          0.00000000e+00],\n",
       "       [ -2.82415613e-07,   1.54260727e-06,  -5.82915482e-06,\n",
       "          1.94468284e-05,  -5.86233473e-05,   1.44389865e-04,\n",
       "         -3.42906162e-04,   3.83660983e-04,   7.54243112e-04,\n",
       "          3.79722519e-03,   2.49682609e-02,   1.54035524e-01,\n",
       "          2.82130212e-01,   1.88432455e-01,   3.83837044e-01,\n",
       "          1.07827044e+00,   1.02359104e+00,   1.04022205e+00,\n",
       "          9.38698232e-01,   3.91549319e-01,  -2.25252155e-02,\n",
       "          4.19547455e-03,  -6.36438082e-04,   7.94519001e-05,\n",
       "         -4.50069410e-06,  -1.29907858e-06,   5.22879418e-07,\n",
       "          0.00000000e+00],\n",
       "       [ -6.49738539e-08,   1.77417860e-07,   2.15446967e-08,\n",
       "         -1.70129294e-06,   1.04620322e-05,  -1.83050615e-05,\n",
       "          2.14626634e-04,  -4.58420574e-04,   2.00406765e-03,\n",
       "         -1.00881103e-02,   3.35925967e-02,   5.19205928e-01,\n",
       "          8.93178225e-01,   9.56980467e-01,   1.03110874e+00,\n",
       "          9.83761549e-01,   9.77785885e-01,   8.92400980e-01,\n",
       "          3.28498751e-01,   9.21226665e-03,  -9.50590838e-05,\n",
       "          1.30889035e-04,  -8.33013692e-05,   2.21674982e-05,\n",
       "         -3.44702448e-06,  -3.01274440e-07,   4.58523090e-07,\n",
       "         -7.43883319e-08],\n",
       "       [  9.32066069e-09,  -9.70083036e-08,   3.37997676e-07,\n",
       "         -1.12729242e-06,   1.66519442e-06,  -6.60939113e-05,\n",
       "         -1.89032944e-04,  -3.45434499e-04,  -7.35289359e-05,\n",
       "          1.94533891e-03,  -1.04384469e-02,   6.21008158e-01,\n",
       "          1.01630235e+00,   1.00597394e+00,   9.86297190e-01,\n",
       "          9.98496830e-01,   1.01763165e+00,   4.56429720e-01,\n",
       "          1.81773826e-02,  -4.86987364e-03,   1.84958859e-03,\n",
       "         -1.01230829e-03,   3.96394957e-04,  -1.25477600e-04,\n",
       "          3.41987834e-05,  -7.66003996e-06,   1.08967004e-06,\n",
       "          4.51396005e-08],\n",
       "       [  0.00000000e+00,   1.01390704e-07,  -5.89920035e-07,\n",
       "          3.04947162e-06,  -1.05080398e-05,   1.95601911e-04,\n",
       "          4.64831362e-04,   1.91584160e-03,  -2.83580506e-03,\n",
       "          9.78698768e-03,  -3.24462131e-02,   2.97380358e-01,\n",
       "          7.63888657e-01,   8.45322788e-01,   8.77555609e-01,\n",
       "          9.16328311e-01,   1.04616177e+00,   7.07143664e-01,\n",
       "          1.89867884e-01,  -2.52445526e-02,   5.29616466e-03,\n",
       "         -2.15071268e-04,  -3.67031607e-04,   2.26754200e-04,\n",
       "         -9.63346683e-05,   3.46984052e-05,  -1.10708952e-05,\n",
       "          2.45387946e-06],\n",
       "       [  0.00000000e+00,   4.02994942e-07,  -1.39189456e-06,\n",
       "          2.66429151e-06,  -5.70272050e-06,  -3.39915103e-04,\n",
       "         -2.07271264e-03,  -4.02064435e-03,  -8.05564807e-04,\n",
       "          1.41466479e-03,  -3.89388902e-03,   2.61027496e-02,\n",
       "          1.27582923e-01,   6.56088591e-02,   1.93145815e-02,\n",
       "          2.76526034e-01,   6.92698121e-01,   1.05748570e+00,\n",
       "          7.02384233e-01,   1.53700873e-01,  -3.22496891e-02,\n",
       "          9.91731044e-03,  -2.90769339e-03,   8.28490651e-04,\n",
       "         -2.31885511e-04,   6.42684390e-05,  -1.75530586e-05,\n",
       "          3.96380619e-06],\n",
       "       [  0.00000000e+00,  -2.40941205e-07,   1.55674584e-07,\n",
       "          7.15692022e-06,  -5.04292038e-05,   9.61514364e-04,\n",
       "          5.64132119e-03,   1.55546740e-02,   6.38984086e-04,\n",
       "          3.05940700e-03,  -1.89584482e-03,  -1.92522595e-03,\n",
       "         -2.38952897e-02,  -2.41426714e-02,   1.69831198e-02,\n",
       "         -5.32933138e-02,   6.87464550e-02,   6.26903713e-01,\n",
       "          9.78671789e-01,   3.61498475e-01,  -4.56095077e-02,\n",
       "          1.23912273e-02,  -3.34719406e-03,   8.95012228e-04,\n",
       "         -2.36101987e-04,   6.11894429e-05,  -1.54019108e-05,\n",
       "          3.36497123e-06],\n",
       "       [  0.00000000e+00,   9.62712647e-07,  -1.96173937e-06,\n",
       "         -1.63646437e-05,   1.96600668e-04,  -2.90916231e-03,\n",
       "         -8.68204515e-03,  -1.70808975e-02,  -1.89809185e-02,\n",
       "         -6.25148881e-03,   6.40381547e-03,  -9.79493139e-04,\n",
       "          6.32974925e-03,   4.15408798e-03,   3.13423399e-04,\n",
       "         -4.99393186e-03,   5.86397573e-03,   6.26188934e-01,\n",
       "          9.70533788e-01,   5.07375777e-01,  -2.95802504e-02,\n",
       "          6.94456603e-03,  -1.55983423e-03,   3.30681680e-04,\n",
       "         -6.46242770e-05,   1.11431846e-05,  -1.53486451e-06,\n",
       "          1.21706037e-07],\n",
       "       [  0.00000000e+00,  -7.12154133e-06,   7.48103994e-05,\n",
       "         -3.91497422e-04,   1.72928290e-03,  -3.28203035e-03,\n",
       "          1.54781938e-01,   7.12680221e-01,   5.56830764e-01,\n",
       "         -3.08100153e-02,   1.97486393e-03,  -5.90538327e-03,\n",
       "         -2.71630078e-03,   2.48291786e-03,   7.04378763e-04,\n",
       "         -7.58798048e-03,   2.96176672e-01,   9.71992493e-01,\n",
       "          1.03165817e+00,   5.03188074e-01,   9.92767699e-03,\n",
       "         -2.42001982e-03,   4.39876836e-04,  -2.82540641e-05,\n",
       "         -2.18207533e-05,   1.36073331e-05,  -5.11920098e-06,\n",
       "          1.45007289e-06],\n",
       "       [  0.00000000e+00,  -3.05141697e-07,  -2.81134544e-05,\n",
       "          2.08200436e-04,  -7.08377047e-04,   7.92936538e-04,\n",
       "          6.07320189e-01,   8.27551723e-01,   5.32580465e-02,\n",
       "         -9.89219453e-03,   1.61218289e-02,   1.83623713e-02,\n",
       "          1.11202821e-02,  -1.26042617e-02,  -3.23963491e-03,\n",
       "          2.12619841e-01,   8.92647743e-01,   1.03206396e+00,\n",
       "          8.27941835e-01,   1.35913312e-01,  -2.20416337e-02,\n",
       "          6.63650688e-03,  -1.66932633e-03,   3.51814117e-04,\n",
       "         -5.76129896e-05,   5.01373006e-06,   8.39089637e-07,\n",
       "         -5.14784119e-07],\n",
       "       [  0.00000000e+00,   0.00000000e+00,   5.29326499e-04,\n",
       "         -1.79513032e-03,   2.90019088e-03,   1.42044887e-01,\n",
       "          8.94067109e-01,   7.41193771e-01,   6.72310814e-02,\n",
       "         -1.50036570e-02,  -3.27886641e-02,  -7.75244236e-02,\n",
       "         -3.16685028e-02,   1.75422683e-01,   5.53574502e-01,\n",
       "          9.83164787e-01,   1.06115246e+00,   9.28243995e-01,\n",
       "          3.78583610e-01,   8.05975124e-03,   8.68546020e-04,\n",
       "         -1.53896329e-03,   5.23501250e-04,  -1.20435318e-04,\n",
       "          1.85772096e-05,  -5.60067463e-07,  -7.94358698e-07,\n",
       "          3.27763900e-07],\n",
       "       [  0.00000000e+00,   0.00000000e+00,  -1.27942907e-03,\n",
       "          6.29108399e-03,  -2.22327299e-02,   1.64876819e-01,\n",
       "          8.17254841e-01,   9.61915970e-01,   4.78640646e-01,\n",
       "          3.12109321e-01,   2.64061987e-01,   2.91491687e-01,\n",
       "          5.42816639e-01,   8.34469795e-01,   9.85300481e-01,\n",
       "          9.87670302e-01,   9.34922338e-01,   4.77365404e-01,\n",
       "          3.09360009e-02,   2.85460846e-03,  -1.56555907e-03,\n",
       "          8.86753376e-04,  -2.67179857e-04,   6.11993455e-05,\n",
       "         -1.07402793e-05,   1.14820557e-06,   6.47696012e-08,\n",
       "         -6.87394746e-08],\n",
       "       [  0.00000000e+00,   0.00000000e+00,   8.55872786e-05,\n",
       "         -2.08092714e-03,   1.24871871e-02,  -4.98862676e-02,\n",
       "          4.15937692e-01,   9.73470926e-01,   9.71287191e-01,\n",
       "          1.03363919e+00,   1.00897634e+00,   9.29109454e-01,\n",
       "          1.02757776e+00,   1.04091966e+00,   1.00250077e+00,\n",
       "          8.55791450e-01,   4.62291002e-01,   3.40714306e-02,\n",
       "         -2.55426746e-02,   2.27325433e-03,  -1.27954627e-04,\n",
       "         -1.38479445e-04,   5.19344358e-05,  -1.26140530e-05,\n",
       "          2.25295048e-06,  -2.46948701e-07,  -8.85334472e-09,\n",
       "          1.19131736e-08],\n",
       "       [  0.00000000e+00,   0.00000000e+00,   5.86940034e-04,\n",
       "         -2.95007159e-03,   8.81756283e-03,  -2.28592977e-02,\n",
       "          4.09486443e-02,   4.07505631e-01,   9.61815476e-01,\n",
       "          9.85232174e-01,   9.46793616e-01,   1.07465291e+00,\n",
       "          8.30814719e-01,   7.44266689e-01,   5.81278324e-01,\n",
       "          5.42925820e-02,  -7.19149113e-02,  -7.95765966e-03,\n",
       "          7.85827078e-03,  -4.43351106e-04,   5.01737850e-05,\n",
       "          1.32060977e-05,  -4.15745944e-06,   7.46360172e-07,\n",
       "         -7.73015856e-08,   1.10963150e-09,  -1.08691507e-10,\n",
       "          7.23257398e-10],\n",
       "       [  0.00000000e+00,   0.00000000e+00,  -3.23767426e-06,\n",
       "          2.17271430e-04,  -1.04897784e-03,   3.40420776e-03,\n",
       "         -5.79628907e-03,  -6.32836076e-04,   1.91017181e-01,\n",
       "          5.78089476e-01,   4.65421349e-01,   6.24011934e-01,\n",
       "          2.50317365e-01,   1.14046477e-01,   3.15634869e-02,\n",
       "          1.99372065e-03,   2.01596431e-02,   4.77966433e-03,\n",
       "         -2.24748440e-03,  -2.03063228e-05,  -9.99994154e-06,\n",
       "          6.74969033e-06,  -3.13991836e-06,   8.50038703e-07,\n",
       "         -1.56118105e-07,   1.50438879e-08,  -2.86528830e-12,\n",
       "          0.00000000e+00],\n",
       "       [  0.00000000e+00,   0.00000000e+00,  -4.44894965e-09,\n",
       "          1.96137421e-06,  -4.31713888e-05,   2.86649738e-04,\n",
       "         -1.68767804e-03,   6.42037159e-03,  -1.30828293e-02,\n",
       "         -7.80758774e-03,  -4.12019342e-02,  -1.02222279e-01,\n",
       "         -6.03688844e-02,  -2.74888575e-02,  -1.02424482e-02,\n",
       "          4.79858747e-04,  -4.71487967e-03,  -1.69904158e-03,\n",
       "          3.94108618e-04,   3.77695287e-05,  -2.95351697e-07,\n",
       "          0.00000000e+00,   0.00000000e+00,   0.00000000e+00,\n",
       "          0.00000000e+00,   0.00000000e+00,   0.00000000e+00,\n",
       "          0.00000000e+00],\n",
       "       [  0.00000000e+00,   0.00000000e+00,   0.00000000e+00,\n",
       "          2.52069071e-06,   4.15100803e-05,  -2.43192902e-04,\n",
       "          9.63234634e-04,  -2.66442215e-03,   4.22545662e-03,\n",
       "          7.40171410e-04,   9.26966406e-03,   2.05486100e-02,\n",
       "          1.38033442e-02,   4.44286270e-03,   1.07264216e-03,\n",
       "          0.00000000e+00,   0.00000000e+00,   0.00000000e+00,\n",
       "          0.00000000e+00,   0.00000000e+00,   0.00000000e+00,\n",
       "          0.00000000e+00,   0.00000000e+00,   0.00000000e+00,\n",
       "          0.00000000e+00,   0.00000000e+00,   0.00000000e+00,\n",
       "          0.00000000e+00]], dtype=float32)"
      ]
     },
     "execution_count": 80,
     "metadata": {},
     "output_type": "execute_result"
    }
   ],
   "source": [
    "image_rotated_scaled"
   ]
  }
 ],
 "metadata": {
  "kernelspec": {
   "display_name": "Python 2",
   "language": "python",
   "name": "python2"
  },
  "language_info": {
   "codemirror_mode": {
    "name": "ipython",
    "version": 2
   },
   "file_extension": ".py",
   "mimetype": "text/x-python",
   "name": "python",
   "nbconvert_exporter": "python",
   "pygments_lexer": "ipython2",
   "version": "2.7.6"
  }
 },
 "nbformat": 4,
 "nbformat_minor": 0
}
